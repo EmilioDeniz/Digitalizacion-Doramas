{
 "cells": [
  {
   "cell_type": "markdown",
   "metadata": {},
   "source": [
    "Ahora que hemos visto todas las funcionalidades básicas que nos da Python, podemos mejorar nuestra calculadora. Para ello:\n",
    "\n",
    "1) Haremos uso de funciones.\n",
    "2) Haremos verifiación de errores, para responder de mejor manera a acciones erróneas del usuario."
   ]
  },
  {
   "cell_type": "code",
   "execution_count": null,
   "metadata": {
    "vscode": {
     "languageId": "plaintext"
    }
   },
   "outputs": [],
   "source": []
  }
 ],
 "metadata": {
  "language_info": {
   "name": "python"
  }
 },
 "nbformat": 4,
 "nbformat_minor": 2
}
