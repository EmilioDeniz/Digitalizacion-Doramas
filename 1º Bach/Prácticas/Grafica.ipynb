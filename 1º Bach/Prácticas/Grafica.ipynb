{
 "cells": [
  {
   "cell_type": "markdown",
   "metadata": {},
   "source": [
    "El objetivo de esta actividad será usar los datos que hemos obtenido en el pluviómetro del instituto para representarlos en Python gracias a las librerías que hemos usado en clase.\n",
    "\n",
    "1) PROHIBIDO usar ChatGPT.\n",
    "2) El tipo de gráfica es libre."
   ]
  },
  {
   "cell_type": "code",
   "execution_count": null,
   "metadata": {
    "vscode": {
     "languageId": "plaintext"
    }
   },
   "outputs": [],
   "source": []
  }
 ],
 "metadata": {
  "language_info": {
   "name": "python"
  }
 },
 "nbformat": 4,
 "nbformat_minor": 2
}
