{
 "cells": [
  {
   "cell_type": "markdown",
   "metadata": {},
   "source": [
    "Con lo que hemos aprendido en clase, podemos hacer una primera práctica ¡Crear nuestra primera calculadora! Para ello, extraeremos la información que escribirá el usuario, por ejemplo \"2 + 4\" o \"2+4\" y haremos la operación que nos pida el usuario. Por lo tanto, hay que tener en cuenta unas observaciones:\n",
    "\n",
    "1) Tenemos que normalizar la entrada del usuario, para que nos permita cualquier tipo de espaciado en el input.\n",
    "\n",
    "2) No se pueden hacer divisiones por cero.\n",
    "\n",
    "3) Hay que considerar varias opciones, y cuanto más completa la calculadora más opciones.\n",
    "\n",
    "- Para este ejercicio esta PROHIBIDO usar ChatGPT, estamos aprendiendo a usar Python, no vamos a hacer que una IA lo haga por nosotros.\n",
    "- Este trabajo se puede hacer sólamente con lo dado en Tutorial1."
   ]
  },
  {
   "cell_type": "code",
   "execution_count": null,
   "metadata": {
    "vscode": {
     "languageId": "plaintext"
    }
   },
   "outputs": [],
   "source": []
  }
 ],
 "metadata": {
  "language_info": {
   "name": "python"
  }
 },
 "nbformat": 4,
 "nbformat_minor": 2
}
