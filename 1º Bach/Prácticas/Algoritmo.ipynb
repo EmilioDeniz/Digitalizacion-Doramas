{
 "cells": [
  {
   "cell_type": "markdown",
   "metadata": {},
   "source": [
    "Ahora que hemos escrito el pseudocódigo de un algoritmo, intentaremos plasmarlo en Python.\n",
    "\n",
    "1) Prohibido usar ChatGPT"
   ]
  },
  {
   "cell_type": "code",
   "execution_count": null,
   "metadata": {
    "vscode": {
     "languageId": "plaintext"
    }
   },
   "outputs": [],
   "source": []
  }
 ],
 "metadata": {
  "language_info": {
   "name": "python"
  }
 },
 "nbformat": 4,
 "nbformat_minor": 2
}
