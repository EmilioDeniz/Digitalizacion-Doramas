{
 "cells": [
  {
   "cell_type": "markdown",
   "metadata": {},
   "source": [
    "#Paquetes necesarios"
   ]
  },
  {
   "cell_type": "code",
   "execution_count": 1,
   "metadata": {},
   "outputs": [],
   "source": [
    "import cv2  \n",
    "import numpy as np\n",
    "import matplotlib.pyplot as plt"
   ]
  },
  {
   "cell_type": "markdown",
   "metadata": {},
   "source": [
    "TAREA: Captura una o varias imágenes con monedas no solapadas y algún objeto que no lo sea. Filtra los contornos que no se correpondan con monedas, y muestra el número total de monedas presentes en la imagen."
   ]
  },
  {
   "cell_type": "code",
   "execution_count": 11,
   "metadata": {},
   "outputs": [],
   "source": [
    "cap = cv2.VideoCapture(0)\n",
    "\n",
    "font = cv2.FONT_HERSHEY_SIMPLEX\n",
    "font_scale = 1\n",
    "font_color = (0, 0, 255)\n",
    "font_thickness = 2\n",
    "\n",
    "while True:\n",
    "    ret, frame = cap.read()\n",
    "\n",
    "    # Convierte el frame a escala de grises\n",
    "    frame_gris = cv2.cvtColor(frame, cv2.COLOR_BGR2GRAY)\n",
    "\n",
    "    # Aplica un filtro de suavizado para reducir el ruido\n",
    "    frame_gris = cv2.GaussianBlur(frame_gris, (5, 5), 0)\n",
    "\n",
    "    # Umbral adaptativo para mejorar la segmentación\n",
    "    img_th1 = cv2.adaptiveThreshold(frame_gris, 255, cv2.ADAPTIVE_THRESH_MEAN_C, cv2.THRESH_BINARY_INV, 11, 2)\n",
    "\n",
    "    # Detectar bordes usando Canny para mejorar la precisión en los bordes\n",
    "    edges = cv2.Canny(frame_gris, 100, 200)\n",
    "\n",
    "    # Obtiene contornos de los bordes detectados\n",
    "    contornos, _ = cv2.findContours(edges, cv2.RETR_EXTERNAL, cv2.CHAIN_APPROX_SIMPLE)\n",
    "\n",
    "    img_rgb = cv2.cvtColor(frame, cv2.COLOR_BGR2RGB)\n",
    "    img_cont = np.zeros(img_rgb.shape)\n",
    "    filtered_contours = 0\n",
    "\n",
    "    for c in contornos:\n",
    "        # Área del contorno\n",
    "        area = cv2.contourArea(c)\n",
    "        \n",
    "        # Filtramos por área mínima (ajustar según el tamaño de las monedas)\n",
    "        if area > 100:  # Puedes ajustar este valor dependiendo del tamaño de las monedas\n",
    "            perimetro = cv2.arcLength(c, True)\n",
    "            \n",
    "            # Filtramos por perímetro máximo\n",
    "            if perimetro < 2000:  # Puedes ajustar este valor dependiendo del tamaño de las monedas\n",
    "                # Añadimos al contador\n",
    "                filtered_contours += 1\n",
    "                \n",
    "                # Dibuja los contornos en blanco (de fondo) y contornos en verde\n",
    "                cv2.drawContours(img_cont, [c], -1, (255, 255, 255), -1)\n",
    "                cv2.drawContours(img_rgb, [c], -1, (0, 255, 0), 4)\n",
    "\n",
    "    total_coins = filtered_contours  # Actualiza el total de monedas\n",
    "\n",
    "    # Dibuja el número total de monedas en la imagen\n",
    "    cv2.putText(frame, 'Numero total de monedas: {}'.format(total_coins), (10, 30), font, font_scale, font_color, font_thickness)\n",
    "\n",
    "    # Muestra las imágenes en una pantalla dividida\n",
    "    cv2.imshow('Webcam', frame)\n",
    "    cv2.imshow('Contornos', img_rgb)\n",
    "\n",
    "    # Condición de salida con la tecla 'q'\n",
    "    if cv2.waitKey(1) & 0xFF == ord('q'):\n",
    "        break\n",
    "\n",
    "# Libera la captura de video y cierra las ventanas\n",
    "cap.release()\n",
    "cv2.destroyAllWindows()"
   ]
  }
 ],
 "metadata": {
  "kernelspec": {
   "display_name": "entorno_bach",
   "language": "python",
   "name": "python3"
  },
  "language_info": {
   "codemirror_mode": {
    "name": "ipython",
    "version": 3
   },
   "file_extension": ".py",
   "mimetype": "text/x-python",
   "name": "python",
   "nbconvert_exporter": "python",
   "pygments_lexer": "ipython3",
   "version": "3.13.2"
  },
  "orig_nbformat": 4
 },
 "nbformat": 4,
 "nbformat_minor": 2
}
