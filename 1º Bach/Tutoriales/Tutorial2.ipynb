{
 "cells": [
  {
   "cell_type": "markdown",
   "metadata": {},
   "source": [
    "Hemos visto cómo poner condicionales, pero los que han trabajado con Scratch sabrán que existen los bucles. Veamos dos ejemplos"
   ]
  },
  {
   "cell_type": "code",
   "execution_count": 13,
   "metadata": {},
   "outputs": [
    {
     "name": "stdout",
     "output_type": "stream",
     "text": [
      "Vamos a hacer un bucle for \n",
      "\n",
      "Iteración número 0\n",
      "Iteración número 1\n",
      "Iteración número 2\n",
      "Iteración número 3\n",
      "Iteración número 4\n",
      "\n",
      "Voy a hacer lo mismo \n",
      "\n",
      "Iteración número 0\n",
      "Iteración número 1\n",
      "Iteración número 2\n",
      "Iteración número 3\n",
      "Iteración número 4\n",
      "\n",
      "Hagamos un bucle while \n",
      "\n",
      "Numerito vale 0\n",
      "Numerito vale 1\n",
      "Numerito vale 2\n",
      "Numerito vale 3\n",
      "Numerito vale 4\n",
      "Numerito vale 5\n",
      "Numerito vale 6\n",
      "Numerito vale 7\n",
      "Numerito vale 8\n",
      "\n",
      "Fin de los bucles (Por fin)\n"
     ]
    }
   ],
   "source": [
    "# Bucle for\n",
    "print(\"Vamos a hacer un bucle for \\n\")\n",
    "\n",
    "for i in range(0, 5):\n",
    "    print(f\"Iteración número {i}\")\n",
    "\n",
    "print(\"\\nVoy a hacer lo mismo \\n\") #<-- \\n deja una línea extra de espacio :)\n",
    "\n",
    "for i in range(5):\n",
    "    print(f\"Iteración número {i}\")\n",
    "\n",
    "# Bucle while\n",
    "\n",
    "numerito = 0\n",
    "\n",
    "print(\"\\nHagamos un bucle while \\n\")\n",
    "\n",
    "while(numerito <= 8):\n",
    "    print(\"Numerito vale \"+str(numerito)) #<-- Esto se llama concatenación, es unir elementos :)\n",
    "    numerito+=1\n",
    "\n",
    "print(\"\\nFin de los bucles \"+ \"(Por fin)\") #<-- Otra concatenación de strings"
   ]
  },
  {
   "cell_type": "markdown",
   "metadata": {},
   "source": [
    "Hemos aprendido cosas muy interesantes,pero es necesario saber cómo almacenar datos en Python para poder trabajar al máximo con el lengueje, estas son las formas básicas"
   ]
  },
  {
   "cell_type": "code",
   "execution_count": 14,
   "metadata": {},
   "outputs": [
    {
     "name": "stdout",
     "output_type": "stream",
     "text": [
      "📜 Lista: ['🍎 Manzana', '🍌 Plátano', '🍇 Uvas']\n",
      "📍 Tupla (coordenadas): (10.5, 20.8)\n",
      "👤 Diccionario: {'nombre': 'Juan', 'edad': 18, 'profesor': False}\n",
      "🎨 Conjunto: {'rojo', 'verde', 'azul'}\n"
     ]
    }
   ],
   "source": [
    "# Lista (list) - Conjunto de valores que pueden cambiar\n",
    "lista_frutas = [\"🍎 Manzana\", \"🍌 Plátano\", \"🍇 Uvas\"]\n",
    "print(f\"📜 Lista: {lista_frutas}\")\n",
    "\n",
    "# Tupla (tuple) - Similar a una lista, pero inmutable\n",
    "coordenadas = (10.5, 20.8)\n",
    "print(f\"📍 Tupla (coordenadas): {coordenadas}\")\n",
    "\n",
    "# Diccionario (dict) - Datos clave-valor\n",
    "persona = {\"nombre\": \"Juan\", \"edad\": 18, \"profesor\": False}\n",
    "print(f\"👤 Diccionario: {persona}\")\n",
    "\n",
    "# Conjunto (set) - Elementos únicos y sin orden específico\n",
    "colores = {\"rojo\", \"verde\", \"azul\"}\n",
    "print(f\"🎨 Conjunto: {colores}\")"
   ]
  },
  {
   "cell_type": "markdown",
   "metadata": {},
   "source": [
    "Sí, sí, muy interesante ¿pero de qué me sirve a mí almacenar los elementos así? Empecemos por la Lista"
   ]
  },
  {
   "cell_type": "code",
   "execution_count": 15,
   "metadata": {},
   "outputs": [
    {
     "name": "stdout",
     "output_type": "stream",
     "text": [
      "Primer elemento de la lista 🍎 Manzana\n",
      "Último elemento de la lista 🍇 Uvas\n",
      "Recorremos la lista\n",
      "🍎 Manzana\n",
      "🍌 Plátano\n",
      "🍇 Uvas\n"
     ]
    }
   ],
   "source": [
    "primer_elemento= lista_frutas[0]\n",
    "\n",
    "print(f\"Primer elemento de la lista {primer_elemento}\")\n",
    "\n",
    "ultimo_elemento= lista_frutas[len(lista_frutas)-1] \n",
    "\n",
    "print(f\"Último elemento de la lista {ultimo_elemento}\")\n",
    "\n",
    "print(\"Recorremos la lista\")\n",
    "for i in range(0,len(lista_frutas)):\n",
    "    print(f\"{lista_frutas[i]}\") "
   ]
  },
  {
   "cell_type": "markdown",
   "metadata": {},
   "source": [
    "Ahora, explicaremos qué es una tupla y qué es eso de \"inmutable\""
   ]
  },
  {
   "cell_type": "markdown",
   "metadata": {},
   "source": [
    "Así se declaran las tuplas y se accede a sus elementos"
   ]
  },
  {
   "cell_type": "code",
   "execution_count": 16,
   "metadata": {},
   "outputs": [
    {
     "name": "stdout",
     "output_type": "stream",
     "text": [
      "🍎 Manzana\n",
      "🍇 Uvas\n"
     ]
    }
   ],
   "source": [
    "frutas = (\"🍎 Manzana\", \"🍌 Plátano\", \"🍇 Uvas\")\n",
    "print(frutas[0])  # 🍎 Manzana\n",
    "print(frutas[-1]) # 🍇 Uvas (índice negativo accede desde el final)"
   ]
  },
  {
   "cell_type": "markdown",
   "metadata": {},
   "source": [
    "Las tuplas se pueden recorrer"
   ]
  },
  {
   "cell_type": "code",
   "execution_count": 17,
   "metadata": {},
   "outputs": [
    {
     "name": "stdout",
     "output_type": "stream",
     "text": [
      "Me gusta la 🍎 Manzana\n",
      "Me gusta la 🍌 Plátano\n",
      "Me gusta la 🍇 Uvas\n"
     ]
    }
   ],
   "source": [
    "for fruta in frutas:\n",
    "    print(f\"Me gusta la {fruta}\")"
   ]
  },
  {
   "cell_type": "markdown",
   "metadata": {},
   "source": [
    "Las tuplas se pueden desempaquetar y concatenar"
   ]
  },
  {
   "cell_type": "code",
   "execution_count": 18,
   "metadata": {},
   "outputs": [
    {
     "name": "stdout",
     "output_type": "stream",
     "text": [
      "x: 10, y: 20\n",
      "(1, 2, 3, 4, 5, 6)\n"
     ]
    }
   ],
   "source": [
    "coordenadas = (10, 20)\n",
    "x, y = coordenadas  # Asigna 10 a x y 20 a y\n",
    "print(f\"x: {x}, y: {y}\")\n",
    "\n",
    "tupla1 = (1, 2, 3)\n",
    "tupla2 = (4, 5, 6)\n",
    "resultado = tupla1 + tupla2 \n",
    "print(resultado)"
   ]
  },
  {
   "cell_type": "markdown",
   "metadata": {},
   "source": [
    "¿Por qué una tupla es inmutable? Porque una vez creada una tupla, sus elementos no pueden cambiar. Esto hace que las tuplas sean:\n",
    "\n",
    "🔹 Más rápidas que las listas\n",
    "🔹 Más seguras para datos que no deben modificarse\n",
    "🔹 Útiles como claves en diccionarios\n",
    "\n",
    "Si intentas modificar una tupla, obtendrás un error:"
   ]
  },
  {
   "cell_type": "code",
   "execution_count": 19,
   "metadata": {},
   "outputs": [
    {
     "ename": "TypeError",
     "evalue": "'tuple' object does not support item assignment",
     "output_type": "error",
     "traceback": [
      "\u001b[31m---------------------------------------------------------------------------\u001b[39m",
      "\u001b[31mTypeError\u001b[39m                                 Traceback (most recent call last)",
      "\u001b[36mCell\u001b[39m\u001b[36m \u001b[39m\u001b[32mIn[19]\u001b[39m\u001b[32m, line 2\u001b[39m\n\u001b[32m      1\u001b[39m mi_tupla = (\u001b[32m1\u001b[39m, \u001b[32m2\u001b[39m, \u001b[32m3\u001b[39m)\n\u001b[32m----> \u001b[39m\u001b[32m2\u001b[39m \u001b[43mmi_tupla\u001b[49m\u001b[43m[\u001b[49m\u001b[32;43m0\u001b[39;49m\u001b[43m]\u001b[49m = \u001b[32m100\u001b[39m  \u001b[38;5;66;03m# Dará error\u001b[39;00m\n",
      "\u001b[31mTypeError\u001b[39m: 'tuple' object does not support item assignment"
     ]
    }
   ],
   "source": [
    "mi_tupla = (1, 2, 3)\n",
    "mi_tupla[0] = 100  # Dará error"
   ]
  },
  {
   "cell_type": "markdown",
   "metadata": {},
   "source": [
    "Pero, al contrario de las tuplas, las listas sí son mutables"
   ]
  },
  {
   "cell_type": "code",
   "execution_count": 20,
   "metadata": {},
   "outputs": [
    {
     "name": "stdout",
     "output_type": "stream",
     "text": [
      "['🍎 Manzana', '🍌 Plátano', 'Cerezas']\n"
     ]
    }
   ],
   "source": [
    "lista_frutas[2] = \"Cerezas\"\n",
    "\n",
    "print(lista_frutas)"
   ]
  },
  {
   "cell_type": "markdown",
   "metadata": {},
   "source": [
    "Ahora, crearemos un elemento interactivo que explorará un diccionario por nosotros"
   ]
  },
  {
   "cell_type": "code",
   "execution_count": 21,
   "metadata": {},
   "outputs": [
    {
     "name": "stdout",
     "output_type": "stream",
     "text": [
      "🎮 Bienvenido al explorador de videojuegos 🎮\n",
      "Escribe el nombre de un videojuego para ver su información.\n",
      "Opciones: Minecraft, The Witcher 3, Dark Souls, Hollow Knight\n",
      "\n",
      "📌 Información del videojuego:\n",
      "🎮 Nombre: Hollow Knight\n",
      "🕹️ Género: Metroidvania\n",
      "📅 Año: 2017\n",
      "👤 Creador: Team Cherry\n",
      "🎮 ¡Gracias por usar el explorador de videojuegos! 🎮\n"
     ]
    }
   ],
   "source": [
    "# Diccionario de ejemplo con datos sobre videojuegos\n",
    "videojuegos = {\n",
    "    \"Minecraft\": {\"género\": \"Sandbox\", \"año\": 2011, \"creador\": \"Markus Persson\"},\n",
    "    \"The Witcher 3\": {\"género\": \"RPG\", \"año\": 2015, \"creador\": \"CD Projekt Red\"},\n",
    "    \"Dark Souls\": {\"género\": \"Acción-RPG\", \"año\": 2011, \"creador\": \"FromSoftware\"},\n",
    "    \"Hollow Knight\": {\"género\": \"Metroidvania\", \"año\": 2017, \"creador\": \"Team Cherry\"}\n",
    "}\n",
    "\n",
    "print(\"🎮 Bienvenido al explorador de videojuegos 🎮\")\n",
    "print(\"Escribe el nombre de un videojuego para ver su información.\")\n",
    "print(\"Opciones:\", \", \".join(videojuegos.keys()))\n",
    "\n",
    "# Pedir input al usuario\n",
    "nombre = input(\"👉 Escribe el nombre del videojuego: \")\n",
    "\n",
    "# Buscar el videojuego en el diccionario\n",
    "if nombre in videojuegos:\n",
    "    datos = videojuegos[nombre]\n",
    "    print(\"\\n📌 Información del videojuego:\")\n",
    "    print(f\"🎮 Nombre: {nombre}\")\n",
    "    print(f\"🕹️ Género: {datos['género']}\")\n",
    "    print(f\"📅 Año: {datos['año']}\")\n",
    "    print(f\"👤 Creador: {datos['creador']}\")\n",
    "else:\n",
    "    print(\"❌ Ese videojuego no está en la base de datos.\")\n",
    "\n",
    "print(\"🎮 ¡Gracias por usar el explorador de videojuegos! 🎮\")\n"
   ]
  }
 ],
 "metadata": {
  "kernelspec": {
   "display_name": "Python 3",
   "language": "python",
   "name": "python3"
  },
  "language_info": {
   "codemirror_mode": {
    "name": "ipython",
    "version": 3
   },
   "file_extension": ".py",
   "mimetype": "text/x-python",
   "name": "python",
   "nbconvert_exporter": "python",
   "pygments_lexer": "ipython3",
   "version": "3.13.2"
  }
 },
 "nbformat": 4,
 "nbformat_minor": 2
}
