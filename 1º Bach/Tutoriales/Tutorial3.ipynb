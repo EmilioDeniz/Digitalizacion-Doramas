{
 "cells": [
  {
   "cell_type": "markdown",
   "metadata": {},
   "source": [
    "Ya sabemos hacer lo básico, pero hay que saber usar funciones"
   ]
  },
  {
   "cell_type": "code",
   "execution_count": 9,
   "metadata": {},
   "outputs": [
    {
     "name": "stdout",
     "output_type": "stream",
     "text": [
      "3\n"
     ]
    }
   ],
   "source": [
    "def sumar(x,y):\n",
    "    return (x+y)\n",
    "\n",
    "print(sumar(2,1))"
   ]
  },
  {
   "cell_type": "markdown",
   "metadata": {},
   "source": [
    "Esto está muy bien, nos permite modularizar el código y sobre todo **REUTILIZARLO**. Esta función sin embargo tiene un problema ¿Qué pasa si en vez de números paso strings? ¿Sigue siendo una suma?"
   ]
  },
  {
   "cell_type": "code",
   "execution_count": 10,
   "metadata": {},
   "outputs": [
    {
     "name": "stdout",
     "output_type": "stream",
     "text": [
      "21\n",
      "(0, 1, 2, 2)\n"
     ]
    }
   ],
   "source": [
    "print(sumar(\"2\",\"1\"))\n",
    "print(sumar((0,1),(2,2)))"
   ]
  },
  {
   "cell_type": "markdown",
   "metadata": {},
   "source": [
    "Como se ve, se hace una concatenación, es necesario restringir qué tipo de datos pasamos a nuestras funciones. Como Python no lo restringe, hay que hacerlo nosotros."
   ]
  },
  {
   "cell_type": "code",
   "execution_count": 11,
   "metadata": {},
   "outputs": [
    {
     "name": "stdout",
     "output_type": "stream",
     "text": [
      "3\n"
     ]
    },
    {
     "ename": "TypeError",
     "evalue": "Los valores deben ser enteros.",
     "output_type": "error",
     "traceback": [
      "\u001b[31m---------------------------------------------------------------------------\u001b[39m",
      "\u001b[31mTypeError\u001b[39m                                 Traceback (most recent call last)",
      "\u001b[36mCell\u001b[39m\u001b[36m \u001b[39m\u001b[32mIn[11]\u001b[39m\u001b[32m, line 7\u001b[39m\n\u001b[32m      4\u001b[39m     \u001b[38;5;28;01mreturn\u001b[39;00m x + y\n\u001b[32m      6\u001b[39m \u001b[38;5;28mprint\u001b[39m(sumar(\u001b[32m2\u001b[39m, \u001b[32m1\u001b[39m))  \u001b[38;5;66;03m# ✅ Correcto\u001b[39;00m\n\u001b[32m----> \u001b[39m\u001b[32m7\u001b[39m \u001b[38;5;28mprint\u001b[39m(\u001b[43msumar\u001b[49m\u001b[43m(\u001b[49m\u001b[33;43m\"\u001b[39;49m\u001b[33;43m2\u001b[39;49m\u001b[33;43m\"\u001b[39;49m\u001b[43m,\u001b[49m\u001b[43m \u001b[49m\u001b[33;43m\"\u001b[39;49m\u001b[33;43m1\u001b[39;49m\u001b[33;43m\"\u001b[39;49m\u001b[43m)\u001b[49m)  \u001b[38;5;66;03m# ❌ Lanza TypeError\u001b[39;00m\n",
      "\u001b[36mCell\u001b[39m\u001b[36m \u001b[39m\u001b[32mIn[11]\u001b[39m\u001b[32m, line 3\u001b[39m, in \u001b[36msumar\u001b[39m\u001b[34m(x, y)\u001b[39m\n\u001b[32m      1\u001b[39m \u001b[38;5;28;01mdef\u001b[39;00m\u001b[38;5;250m \u001b[39m\u001b[34msumar\u001b[39m(x: \u001b[38;5;28mint\u001b[39m, y: \u001b[38;5;28mint\u001b[39m) -> \u001b[38;5;28mint\u001b[39m:\n\u001b[32m      2\u001b[39m     \u001b[38;5;28;01mif\u001b[39;00m \u001b[38;5;129;01mnot\u001b[39;00m \u001b[38;5;28misinstance\u001b[39m(x, \u001b[38;5;28mint\u001b[39m) \u001b[38;5;129;01mor\u001b[39;00m \u001b[38;5;129;01mnot\u001b[39;00m \u001b[38;5;28misinstance\u001b[39m(y, \u001b[38;5;28mint\u001b[39m):\n\u001b[32m----> \u001b[39m\u001b[32m3\u001b[39m         \u001b[38;5;28;01mraise\u001b[39;00m \u001b[38;5;167;01mTypeError\u001b[39;00m(\u001b[33m\"\u001b[39m\u001b[33mLos valores deben ser enteros.\u001b[39m\u001b[33m\"\u001b[39m)\n\u001b[32m      4\u001b[39m     \u001b[38;5;28;01mreturn\u001b[39;00m x + y\n",
      "\u001b[31mTypeError\u001b[39m: Los valores deben ser enteros."
     ]
    }
   ],
   "source": [
    "def sumar(x: int, y: int) -> int:\n",
    "    if not isinstance(x, int) or not isinstance(y, int):\n",
    "        raise TypeError(\"Los valores deben ser enteros.\")\n",
    "    return x + y\n",
    "\n",
    "print(sumar(2, 1))  # ✅ Correcto\n",
    "print(sumar(\"2\", \"1\"))  # ❌ Lanza TypeError"
   ]
  },
  {
   "cell_type": "markdown",
   "metadata": {},
   "source": [
    "Otro aspecto que hay que tener en cuenta es la detección de errores, para ello tenemos que usar try catch, que en el caso de Python se llama try except"
   ]
  },
  {
   "cell_type": "code",
   "execution_count": 13,
   "metadata": {},
   "outputs": [
    {
     "name": "stdout",
     "output_type": "stream",
     "text": [
      "Operación de división completada.\n",
      "5\n",
      "Error: No se puede dividir por cero.\n",
      "Operación de división completada.\n",
      "None\n",
      "Error: Ambos valores deben ser números enteros.\n",
      "Operación de división completada.\n",
      "None\n"
     ]
    }
   ],
   "source": [
    "def dividir(x: int, y: int) -> float:\n",
    "    try:\n",
    "        # Intentamos realizar la división\n",
    "        resultado = x // y\n",
    "    except ZeroDivisionError:\n",
    "        # Si ocurre una división por cero, se maneja el error aquí\n",
    "        print(\"Error: No se puede dividir por cero.\")\n",
    "        return None\n",
    "    except TypeError:\n",
    "        # Si los parámetros no son enteros, se maneja el error aquí\n",
    "        print(\"Error: Ambos valores deben ser números enteros.\")\n",
    "        return None\n",
    "    else:\n",
    "        # Si no ocurre ningún error, retorna el resultado\n",
    "        return resultado\n",
    "    finally:\n",
    "        # Este bloque siempre se ejecuta, haya o no error\n",
    "        print(\"Operación de división completada.\")\n",
    "\n",
    "# Ejemplos de uso:\n",
    "print(dividir(10, 2))  # Resultado correcto\n",
    "print(dividir(10, 0))  # División por cero\n",
    "print(dividir(10, \"a\"))  # Error de tipo (TypeError)"
   ]
  }
 ],
 "metadata": {
  "kernelspec": {
   "display_name": "Python 3",
   "language": "python",
   "name": "python3"
  },
  "language_info": {
   "codemirror_mode": {
    "name": "ipython",
    "version": 3
   },
   "file_extension": ".py",
   "mimetype": "text/x-python",
   "name": "python",
   "nbconvert_exporter": "python",
   "pygments_lexer": "ipython3",
   "version": "3.13.2"
  }
 },
 "nbformat": 4,
 "nbformat_minor": 2
}
