{
 "cells": [
  {
   "cell_type": "markdown",
   "metadata": {},
   "source": [
    "**Nuestro primer programa siempre será imprimir \"Hola, mundo\" :)**"
   ]
  },
  {
   "cell_type": "code",
   "execution_count": 1,
   "metadata": {},
   "outputs": [
    {
     "name": "stdout",
     "output_type": "stream",
     "text": [
      "Hello world!\n"
     ]
    }
   ],
   "source": [
    "print(\"Hello world!\")"
   ]
  },
  {
   "cell_type": "markdown",
   "metadata": {},
   "source": [
    "Vamos a hacer algunas operaciones básicas para empezar"
   ]
  },
  {
   "cell_type": "code",
   "execution_count": 2,
   "metadata": {},
   "outputs": [
    {
     "name": "stdout",
     "output_type": "stream",
     "text": [
      "La suma da como resultado 2\n",
      "La resta da como resultado 1\n",
      "La multiplicación da como resultado 12\n",
      "La división da como resultado 5.0\n",
      "La división entera da como resultado 3\n",
      "El módulo da como resultado 1\n",
      "La potencia da como resultado 8\n",
      "Nuestra suma especial da 4\n"
     ]
    }
   ],
   "source": [
    "suma = 1 + 1\n",
    "resta = 3 - 2\n",
    "multiplicacion = 4 * 3\n",
    "division = 10 / 2  \n",
    "division_entera = 10 // 3 \n",
    "modulo = 10 % 3  \n",
    "potencia = 2 ** 3  \n",
    "\n",
    "sumaPlusPlus = 3\n",
    "sumaPlusPlus += 1  \n",
    "\n",
    "print(f\"La suma da como resultado {suma}\")\n",
    "print(f\"La resta da como resultado {resta}\")\n",
    "print(f\"La multiplicación da como resultado {multiplicacion}\")\n",
    "print(f\"La división da como resultado {division}\")\n",
    "print(f\"La división entera da como resultado {division_entera}\")\n",
    "print(f\"El módulo da como resultado {modulo}\")\n",
    "print(f\"La potencia da como resultado {potencia}\")\n",
    "print(f\"Nuestra suma especial da {sumaPlusPlus}\")"
   ]
  },
  {
   "cell_type": "markdown",
   "metadata": {},
   "source": [
    "Ahora toca ver las condiciones y los **booleanos**"
   ]
  },
  {
   "cell_type": "code",
   "execution_count": 3,
   "metadata": {},
   "outputs": [
    {
     "name": "stdout",
     "output_type": "stream",
     "text": [
      "Dios, es cierto\n"
     ]
    }
   ],
   "source": [
    "esVerdadero = True\n",
    "esFalso = False\n",
    "\n",
    "if esVerdadero == True:\n",
    "    print(\"Dios, es cierto\")\n",
    "else:\n",
    "    print(\"Me has mentido\")"
   ]
  },
  {
   "cell_type": "markdown",
   "metadata": {},
   "source": [
    "¿Y si le damos una vuelta de tuerca?"
   ]
  },
  {
   "cell_type": "code",
   "execution_count": 4,
   "metadata": {},
   "outputs": [
    {
     "name": "stdout",
     "output_type": "stream",
     "text": [
      "Sí, es falso\n",
      "Hay un impostor entre nosotros\n"
     ]
    }
   ],
   "source": [
    "if esFalso == False:\n",
    "    print(\"Sí, es falso\")\n",
    "elif esVerdadero and esFalso:\n",
    "    print(\"¿Cómo que ambos son true?\")\n",
    "elif esVerdadero or esFalso:\n",
    "    print(\"Hay un impostor entre nosotros\")\n",
    "\n",
    "if esFalso: # <-- La diferencia es que así estamos preguntando si esFlaso == True :)\n",
    "    print(\"Sí, es falso\")\n",
    "elif esVerdadero and esFalso:\n",
    "    print(\"¿Cómo que ambos son true?\")\n",
    "elif esVerdadero or esFalso:\n",
    "    print(\"Hay un impostor entre nosotros\")"
   ]
  },
  {
   "cell_type": "markdown",
   "metadata": {},
   "source": [
    "Ahora vamos a comparar objetos"
   ]
  },
  {
   "cell_type": "code",
   "execution_count": 5,
   "metadata": {},
   "outputs": [
    {
     "name": "stdout",
     "output_type": "stream",
     "text": [
      "¿x es mayor que y? True\n",
      "¿x es igual a y? False\n",
      "¿x es distinto de y? True\n"
     ]
    }
   ],
   "source": [
    "x = 10\n",
    "y = 5\n",
    "\n",
    "print(f\"¿x es mayor que y? {x > y}\")  \n",
    "print(f\"¿x es igual a y? {x == y}\")  \n",
    "print(f\"¿x es distinto de y? {x != y}\") "
   ]
  },
  {
   "cell_type": "markdown",
   "metadata": {},
   "source": [
    "Ahora, haremos algo interactivo"
   ]
  },
  {
   "cell_type": "code",
   "execution_count": 6,
   "metadata": {},
   "outputs": [
    {
     "name": "stdout",
     "output_type": "stream",
     "text": [
      "Respeto tu opinión, pero estás equivocado 😎\n"
     ]
    }
   ],
   "source": [
    "respuesta = input(\"¿Es Python el mejor lenguaje? (sí/no): \").lower()\n",
    "\n",
    "if respuesta == \"sí\":\n",
    "    print(\"¡Correcto! 🐍🔥\")\n",
    "elif respuesta == \"no\":\n",
    "    print(\"Respeto tu opinión, pero estás equivocado 😎\")\n",
    "else:\n",
    "    print(\"No entendí tu respuesta, prueba con 'sí' o 'no'.\")"
   ]
  },
  {
   "cell_type": "markdown",
   "metadata": {},
   "source": [
    "Pero a veces, es necesario tener preparados muchos casos, por ejemplo para condicionales que evalúen que el valor de una cadena sea igual a una serie de opciones. Para ello usamos switch-case, que en el caso de Python se llama match-case"
   ]
  },
  {
   "cell_type": "code",
   "execution_count": 7,
   "metadata": {},
   "outputs": [
    {
     "name": "stdout",
     "output_type": "stream",
     "text": [
      "¡Ánimo con los números! 📐\n"
     ]
    }
   ],
   "source": [
    "valor = input(\"Dime qué asignatura de cuesta más: \").lower()\n",
    "\n",
    "match valor:\n",
    "    case \"matemáticas\":\n",
    "        print(\"¡Ánimo con los números! 📐\")\n",
    "    case \"historia\":\n",
    "        print(\"Repasa la línea del tiempo. 🏛️\")\n",
    "    case \"física\":\n",
    "        print(\"Newton y Einstein te apoyan. ⚛️\")\n",
    "    case \"química\":\n",
    "        print(\"La tabla periódica es tu mejor amiga. 🧪\")\n",
    "    case _:\n",
    "        print(\"Esa asignatura no está en mi base de datos.\")\n"
   ]
  },
  {
   "cell_type": "markdown",
   "metadata": {},
   "source": [
    "Hemos visto ya tipos de variables: números, booleanos, pero también hay más. Echemos un vistazo y repasemos"
   ]
  },
  {
   "cell_type": "code",
   "execution_count": 8,
   "metadata": {},
   "outputs": [
    {
     "name": "stdout",
     "output_type": "stream",
     "text": [
      "📜 Texto: Soy literalmente literatura\n",
      "🔢 Número entero: 42\n",
      "💧 Número flotante: 2.03\n",
      "🧐 Booleano: True\n"
     ]
    }
   ],
   "source": [
    "# Texto (String)\n",
    "texto = \"Soy literalmente literatura\"\n",
    "print(f\"📜 Texto: {texto}\")\n",
    "\n",
    "# Número entero (int)\n",
    "numero = 42\n",
    "print(f\"🔢 Número entero: {numero}\")\n",
    "\n",
    "# Número decimal (float)\n",
    "flotante = 2.03\n",
    "print(f\"💧 Número flotante: {flotante}\")\n",
    "\n",
    "# Booleano (bool)\n",
    "es_python_genial = True\n",
    "print(f\"🧐 Booleano: {es_python_genial}\")"
   ]
  },
  {
   "cell_type": "markdown",
   "metadata": {},
   "source": [
    "Por último, vamos a ver un par de ejemplos de **tratamiento de strings** que nos van a hacer falta."
   ]
  },
  {
   "cell_type": "markdown",
   "metadata": {},
   "source": [
    "Primero, fragmentación de strings, para sacar datos de ellas"
   ]
  },
  {
   "cell_type": "code",
   "execution_count": 9,
   "metadata": {},
   "outputs": [
    {
     "name": "stdout",
     "output_type": "stream",
     "text": [
      "['Python', 'es', 'un', 'lenguaje', 'de', 'programación', 'increíble']\n",
      "Primera palabra: Python\n",
      "Última palabra: increíble\n",
      "['nombre:Juan', 'edad:25', 'ciudad:Madrid']\n",
      "nombre → Juan\n",
      "edad → 25\n",
      "ciudad → Madrid\n"
     ]
    }
   ],
   "source": [
    "texto = \"Python es un lenguaje de programación increíble\"\n",
    "\n",
    "# Dividir la cadena en palabras\n",
    "palabras = texto.split()  # Por defecto divide por espacios\n",
    "print(palabras)  \n",
    "\n",
    "# Extraer palabras específicas\n",
    "print(f\"Primera palabra: {palabras[0]}\")  \n",
    "print(f\"Última palabra: {palabras[-1]}\") #<-- Esta es otra forma de extraer el último elemento de una lista\n",
    "\n",
    "# Dividir por un carácter específico\n",
    "frase = \"nombre:Juan,edad:25,ciudad:Madrid\"\n",
    "datos = frase.split(\",\")  \n",
    "print(datos) \n",
    "\n",
    "# Extraer datos específicos\n",
    "for dato in datos:\n",
    "    clave, valor = dato.split(\":\")\n",
    "    print(f\"{clave} → {valor}\")\n"
   ]
  },
  {
   "cell_type": "markdown",
   "metadata": {},
   "source": [
    "Por último, unión de strings"
   ]
  },
  {
   "cell_type": "code",
   "execution_count": 10,
   "metadata": {},
   "outputs": [
    {
     "name": "stdout",
     "output_type": "stream",
     "text": [
      "Aprender Python es divertido\n",
      "Me gusta Python\n",
      "APRENDER PYTHON ES DIVERTIDO\n",
      "aprender python es divertido\n"
     ]
    }
   ],
   "source": [
    "palabras = [\"Aprender\", \"Python\", \"es\", \"divertido\"]\n",
    "frase = \" \".join(palabras)\n",
    "print(frase)  \n",
    "\n",
    "# Reemplazar una palabra por otra\n",
    "texto = \"Me gusta JavaScript\"\n",
    "nuevo_texto = texto.replace(\"JavaScript\", \"Python\")\n",
    "print(nuevo_texto)  \n",
    "\n",
    "# Transformar a mayúsculas y minúsculas\n",
    "print(frase.upper())  \n",
    "print(frase.lower())  \n"
   ]
  }
 ],
 "metadata": {
  "kernelspec": {
   "display_name": "Python 3",
   "language": "python",
   "name": "python3"
  },
  "language_info": {
   "codemirror_mode": {
    "name": "ipython",
    "version": 3
   },
   "file_extension": ".py",
   "mimetype": "text/x-python",
   "name": "python",
   "nbconvert_exporter": "python",
   "pygments_lexer": "ipython3",
   "version": "3.13.2"
  }
 },
 "nbformat": 4,
 "nbformat_minor": 2
}
