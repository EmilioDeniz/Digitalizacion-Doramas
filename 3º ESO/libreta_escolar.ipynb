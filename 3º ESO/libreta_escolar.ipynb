{
 "cells": [
  {
   "cell_type": "markdown",
   "id": "3bd5a549",
   "metadata": {},
   "source": [
    "# Visualización de Datos Escolares\n",
    "Este cuaderno muestra los datos de estudiantes y sus calificaciones de manera organizada para facilitar la comprensión."
   ]
  },
  {
   "cell_type": "code",
   "execution_count": null,
   "id": "fe7ee344",
   "metadata": {},
   "outputs": [],
   "source": [
    "import sqlite3\n",
    "import pandas as pd\n",
    "\n",
    "conn = sqlite3.connect(\"escuela.db\")\n"
   ]
  },
  {
   "cell_type": "markdown",
   "id": "e59783b6",
   "metadata": {},
   "source": [
    "## Tabla: Estudiantes"
   ]
  },
  {
   "cell_type": "markdown",
   "id": "6ef3485f",
   "metadata": {},
   "source": [
    "Obtenemos todos los datos de la tabla"
   ]
  },
  {
   "cell_type": "code",
   "execution_count": 8,
   "id": "825186eb",
   "metadata": {},
   "outputs": [
    {
     "data": {
      "text/html": [
       "<div>\n",
       "<style scoped>\n",
       "    .dataframe tbody tr th:only-of-type {\n",
       "        vertical-align: middle;\n",
       "    }\n",
       "\n",
       "    .dataframe tbody tr th {\n",
       "        vertical-align: top;\n",
       "    }\n",
       "\n",
       "    .dataframe thead th {\n",
       "        text-align: right;\n",
       "    }\n",
       "</style>\n",
       "<table border=\"1\" class=\"dataframe\">\n",
       "  <thead>\n",
       "    <tr style=\"text-align: right;\">\n",
       "      <th></th>\n",
       "      <th>id</th>\n",
       "      <th>nombre</th>\n",
       "      <th>edad</th>\n",
       "      <th>grado</th>\n",
       "    </tr>\n",
       "  </thead>\n",
       "  <tbody>\n",
       "    <tr>\n",
       "      <th>0</th>\n",
       "      <td>1</td>\n",
       "      <td>Carlos Pérez</td>\n",
       "      <td>14</td>\n",
       "      <td>8º</td>\n",
       "    </tr>\n",
       "    <tr>\n",
       "      <th>1</th>\n",
       "      <td>2</td>\n",
       "      <td>María López</td>\n",
       "      <td>13</td>\n",
       "      <td>7º</td>\n",
       "    </tr>\n",
       "    <tr>\n",
       "      <th>2</th>\n",
       "      <td>3</td>\n",
       "      <td>Juan García</td>\n",
       "      <td>15</td>\n",
       "      <td>9º</td>\n",
       "    </tr>\n",
       "    <tr>\n",
       "      <th>3</th>\n",
       "      <td>4</td>\n",
       "      <td>Laura Torres</td>\n",
       "      <td>14</td>\n",
       "      <td>8º</td>\n",
       "    </tr>\n",
       "  </tbody>\n",
       "</table>\n",
       "</div>"
      ],
      "text/plain": [
       "   id        nombre  edad grado\n",
       "0   1  Carlos Pérez    14    8º\n",
       "1   2   María López    13    7º\n",
       "2   3   Juan García    15    9º\n",
       "3   4  Laura Torres    14    8º"
      ]
     },
     "execution_count": 8,
     "metadata": {},
     "output_type": "execute_result"
    }
   ],
   "source": [
    "df_estudiantes = pd.read_sql_query(\"SELECT * FROM estudiantes\", conn)\n",
    "df_estudiantes"
   ]
  },
  {
   "cell_type": "markdown",
   "id": "c13d1102",
   "metadata": {},
   "source": [
    "## Tabla: Calificaciones"
   ]
  },
  {
   "cell_type": "markdown",
   "id": "7ecb56d3",
   "metadata": {},
   "source": [
    "Obtenemos todos los valores de la segunda tabla"
   ]
  },
  {
   "cell_type": "code",
   "execution_count": 9,
   "id": "dfe73477",
   "metadata": {},
   "outputs": [
    {
     "data": {
      "text/html": [
       "<div>\n",
       "<style scoped>\n",
       "    .dataframe tbody tr th:only-of-type {\n",
       "        vertical-align: middle;\n",
       "    }\n",
       "\n",
       "    .dataframe tbody tr th {\n",
       "        vertical-align: top;\n",
       "    }\n",
       "\n",
       "    .dataframe thead th {\n",
       "        text-align: right;\n",
       "    }\n",
       "</style>\n",
       "<table border=\"1\" class=\"dataframe\">\n",
       "  <thead>\n",
       "    <tr style=\"text-align: right;\">\n",
       "      <th></th>\n",
       "      <th>id</th>\n",
       "      <th>estudiante_id</th>\n",
       "      <th>materia</th>\n",
       "      <th>nota</th>\n",
       "    </tr>\n",
       "  </thead>\n",
       "  <tbody>\n",
       "    <tr>\n",
       "      <th>0</th>\n",
       "      <td>1</td>\n",
       "      <td>1</td>\n",
       "      <td>Matemáticas</td>\n",
       "      <td>8.5</td>\n",
       "    </tr>\n",
       "    <tr>\n",
       "      <th>1</th>\n",
       "      <td>2</td>\n",
       "      <td>1</td>\n",
       "      <td>Lengua</td>\n",
       "      <td>7.0</td>\n",
       "    </tr>\n",
       "    <tr>\n",
       "      <th>2</th>\n",
       "      <td>3</td>\n",
       "      <td>2</td>\n",
       "      <td>Matemáticas</td>\n",
       "      <td>9.0</td>\n",
       "    </tr>\n",
       "    <tr>\n",
       "      <th>3</th>\n",
       "      <td>4</td>\n",
       "      <td>2</td>\n",
       "      <td>Lengua</td>\n",
       "      <td>8.5</td>\n",
       "    </tr>\n",
       "    <tr>\n",
       "      <th>4</th>\n",
       "      <td>5</td>\n",
       "      <td>3</td>\n",
       "      <td>Matemáticas</td>\n",
       "      <td>6.0</td>\n",
       "    </tr>\n",
       "    <tr>\n",
       "      <th>5</th>\n",
       "      <td>6</td>\n",
       "      <td>3</td>\n",
       "      <td>Lengua</td>\n",
       "      <td>6.5</td>\n",
       "    </tr>\n",
       "    <tr>\n",
       "      <th>6</th>\n",
       "      <td>7</td>\n",
       "      <td>4</td>\n",
       "      <td>Matemáticas</td>\n",
       "      <td>8.0</td>\n",
       "    </tr>\n",
       "    <tr>\n",
       "      <th>7</th>\n",
       "      <td>8</td>\n",
       "      <td>4</td>\n",
       "      <td>Lengua</td>\n",
       "      <td>9.0</td>\n",
       "    </tr>\n",
       "  </tbody>\n",
       "</table>\n",
       "</div>"
      ],
      "text/plain": [
       "   id  estudiante_id      materia  nota\n",
       "0   1              1  Matemáticas   8.5\n",
       "1   2              1       Lengua   7.0\n",
       "2   3              2  Matemáticas   9.0\n",
       "3   4              2       Lengua   8.5\n",
       "4   5              3  Matemáticas   6.0\n",
       "5   6              3       Lengua   6.5\n",
       "6   7              4  Matemáticas   8.0\n",
       "7   8              4       Lengua   9.0"
      ]
     },
     "execution_count": 9,
     "metadata": {},
     "output_type": "execute_result"
    }
   ],
   "source": [
    "df_calificaciones = pd.read_sql_query(\"SELECT * FROM calificaciones\", conn)\n",
    "df_calificaciones"
   ]
  },
  {
   "cell_type": "markdown",
   "id": "40a6d086",
   "metadata": {},
   "source": [
    "Así se filtran datos de una tabla"
   ]
  },
  {
   "cell_type": "code",
   "execution_count": 11,
   "id": "a361e3b2",
   "metadata": {},
   "outputs": [
    {
     "data": {
      "text/html": [
       "<div>\n",
       "<style scoped>\n",
       "    .dataframe tbody tr th:only-of-type {\n",
       "        vertical-align: middle;\n",
       "    }\n",
       "\n",
       "    .dataframe tbody tr th {\n",
       "        vertical-align: top;\n",
       "    }\n",
       "\n",
       "    .dataframe thead th {\n",
       "        text-align: right;\n",
       "    }\n",
       "</style>\n",
       "<table border=\"1\" class=\"dataframe\">\n",
       "  <thead>\n",
       "    <tr style=\"text-align: right;\">\n",
       "      <th></th>\n",
       "      <th>estudiante_id</th>\n",
       "      <th>nota</th>\n",
       "    </tr>\n",
       "  </thead>\n",
       "  <tbody>\n",
       "    <tr>\n",
       "      <th>0</th>\n",
       "      <td>1</td>\n",
       "      <td>8.5</td>\n",
       "    </tr>\n",
       "    <tr>\n",
       "      <th>1</th>\n",
       "      <td>2</td>\n",
       "      <td>9.0</td>\n",
       "    </tr>\n",
       "    <tr>\n",
       "      <th>2</th>\n",
       "      <td>2</td>\n",
       "      <td>8.5</td>\n",
       "    </tr>\n",
       "    <tr>\n",
       "      <th>3</th>\n",
       "      <td>4</td>\n",
       "      <td>8.0</td>\n",
       "    </tr>\n",
       "    <tr>\n",
       "      <th>4</th>\n",
       "      <td>4</td>\n",
       "      <td>9.0</td>\n",
       "    </tr>\n",
       "  </tbody>\n",
       "</table>\n",
       "</div>"
      ],
      "text/plain": [
       "   estudiante_id  nota\n",
       "0              1   8.5\n",
       "1              2   9.0\n",
       "2              2   8.5\n",
       "3              4   8.0\n",
       "4              4   9.0"
      ]
     },
     "execution_count": 11,
     "metadata": {},
     "output_type": "execute_result"
    }
   ],
   "source": [
    "df_calificaciones_filtradas = pd.read_sql_query(\"SELECT estudiante_id, nota FROM calificaciones WHERE nota > 7.0\",conn)\n",
    "df_calificaciones_filtradas"
   ]
  },
  {
   "cell_type": "markdown",
   "id": "6c190b30",
   "metadata": {},
   "source": [
    "JOIN une el resultado de dos tablas y ON establece una condición para la unión"
   ]
  },
  {
   "cell_type": "code",
   "execution_count": 14,
   "id": "148821df",
   "metadata": {},
   "outputs": [
    {
     "data": {
      "text/html": [
       "<div>\n",
       "<style scoped>\n",
       "    .dataframe tbody tr th:only-of-type {\n",
       "        vertical-align: middle;\n",
       "    }\n",
       "\n",
       "    .dataframe tbody tr th {\n",
       "        vertical-align: top;\n",
       "    }\n",
       "\n",
       "    .dataframe thead th {\n",
       "        text-align: right;\n",
       "    }\n",
       "</style>\n",
       "<table border=\"1\" class=\"dataframe\">\n",
       "  <thead>\n",
       "    <tr style=\"text-align: right;\">\n",
       "      <th></th>\n",
       "      <th>nombre</th>\n",
       "      <th>materia</th>\n",
       "      <th>nota</th>\n",
       "    </tr>\n",
       "  </thead>\n",
       "  <tbody>\n",
       "    <tr>\n",
       "      <th>0</th>\n",
       "      <td>Carlos Pérez</td>\n",
       "      <td>Matemáticas</td>\n",
       "      <td>8.5</td>\n",
       "    </tr>\n",
       "    <tr>\n",
       "      <th>1</th>\n",
       "      <td>Carlos Pérez</td>\n",
       "      <td>Lengua</td>\n",
       "      <td>7.0</td>\n",
       "    </tr>\n",
       "  </tbody>\n",
       "</table>\n",
       "</div>"
      ],
      "text/plain": [
       "         nombre      materia  nota\n",
       "0  Carlos Pérez  Matemáticas   8.5\n",
       "1  Carlos Pérez       Lengua   7.0"
      ]
     },
     "execution_count": 14,
     "metadata": {},
     "output_type": "execute_result"
    }
   ],
   "source": [
    "df_calificaciones_estudiante = pd.read_sql_query(\"\"\"\n",
    "SELECT estudiantes.nombre, calificaciones.materia, calificaciones.nota\n",
    "FROM calificaciones \n",
    "JOIN estudiantes ON calificaciones.estudiante_id = estudiantes.id\n",
    "WHERE estudiantes.nombre = 'Carlos Pérez';\n",
    "\"\"\", conn)\n",
    "\n",
    "df_calificaciones_estudiante\n"
   ]
  },
  {
   "cell_type": "markdown",
   "id": "3ecc8fff",
   "metadata": {},
   "source": [
    "Filtramos de forma negativa los resultados"
   ]
  },
  {
   "cell_type": "code",
   "execution_count": 16,
   "id": "7b4d13d6",
   "metadata": {},
   "outputs": [
    {
     "data": {
      "text/html": [
       "<div>\n",
       "<style scoped>\n",
       "    .dataframe tbody tr th:only-of-type {\n",
       "        vertical-align: middle;\n",
       "    }\n",
       "\n",
       "    .dataframe tbody tr th {\n",
       "        vertical-align: top;\n",
       "    }\n",
       "\n",
       "    .dataframe thead th {\n",
       "        text-align: right;\n",
       "    }\n",
       "</style>\n",
       "<table border=\"1\" class=\"dataframe\">\n",
       "  <thead>\n",
       "    <tr style=\"text-align: right;\">\n",
       "      <th></th>\n",
       "      <th>nombre</th>\n",
       "      <th>materia</th>\n",
       "      <th>nota</th>\n",
       "    </tr>\n",
       "  </thead>\n",
       "  <tbody>\n",
       "    <tr>\n",
       "      <th>0</th>\n",
       "      <td>Carlos Pérez</td>\n",
       "      <td>Matemáticas</td>\n",
       "      <td>8.5</td>\n",
       "    </tr>\n",
       "  </tbody>\n",
       "</table>\n",
       "</div>"
      ],
      "text/plain": [
       "         nombre      materia  nota\n",
       "0  Carlos Pérez  Matemáticas   8.5"
      ]
     },
     "execution_count": 16,
     "metadata": {},
     "output_type": "execute_result"
    }
   ],
   "source": [
    "df_calificaciones_estudiante = pd.read_sql_query(\"\"\"\n",
    "SELECT e.nombre, c.materia, c.nota\n",
    "FROM calificaciones c\n",
    "JOIN estudiantes e ON c.estudiante_id = e.id\n",
    "WHERE e.nombre = 'Carlos Pérez' AND c.materia != 'Lengua';\n",
    "\"\"\", conn)\n",
    "\n",
    "df_calificaciones_estudiante"
   ]
  },
  {
   "cell_type": "code",
   "execution_count": 18,
   "id": "4de0b5ff",
   "metadata": {},
   "outputs": [
    {
     "data": {
      "text/html": [
       "<div>\n",
       "<style scoped>\n",
       "    .dataframe tbody tr th:only-of-type {\n",
       "        vertical-align: middle;\n",
       "    }\n",
       "\n",
       "    .dataframe tbody tr th {\n",
       "        vertical-align: top;\n",
       "    }\n",
       "\n",
       "    .dataframe thead th {\n",
       "        text-align: right;\n",
       "    }\n",
       "</style>\n",
       "<table border=\"1\" class=\"dataframe\">\n",
       "  <thead>\n",
       "    <tr style=\"text-align: right;\">\n",
       "      <th></th>\n",
       "      <th>nombre</th>\n",
       "      <th>materia</th>\n",
       "      <th>nota</th>\n",
       "    </tr>\n",
       "  </thead>\n",
       "  <tbody>\n",
       "    <tr>\n",
       "      <th>0</th>\n",
       "      <td>Carlos Pérez</td>\n",
       "      <td>Matemáticas</td>\n",
       "      <td>8.5</td>\n",
       "    </tr>\n",
       "  </tbody>\n",
       "</table>\n",
       "</div>"
      ],
      "text/plain": [
       "         nombre      materia  nota\n",
       "0  Carlos Pérez  Matemáticas   8.5"
      ]
     },
     "execution_count": 18,
     "metadata": {},
     "output_type": "execute_result"
    }
   ],
   "source": [
    "df_calificaciones_estudiante = pd.read_sql_query(\"\"\"\n",
    "SELECT e.nombre, c.materia, c.nota\n",
    "FROM calificaciones c\n",
    "JOIN estudiantes e ON c.estudiante_id = e.id\n",
    "WHERE e.nombre = 'Carlos Pérez' AND NOT c.materia = 'Lengua';\n",
    "\"\"\", conn)\n",
    "\n",
    "df_calificaciones_estudiante"
   ]
  },
  {
   "cell_type": "code",
   "execution_count": 17,
   "id": "b8200cb0",
   "metadata": {},
   "outputs": [
    {
     "data": {
      "text/html": [
       "<div>\n",
       "<style scoped>\n",
       "    .dataframe tbody tr th:only-of-type {\n",
       "        vertical-align: middle;\n",
       "    }\n",
       "\n",
       "    .dataframe tbody tr th {\n",
       "        vertical-align: top;\n",
       "    }\n",
       "\n",
       "    .dataframe thead th {\n",
       "        text-align: right;\n",
       "    }\n",
       "</style>\n",
       "<table border=\"1\" class=\"dataframe\">\n",
       "  <thead>\n",
       "    <tr style=\"text-align: right;\">\n",
       "      <th></th>\n",
       "      <th>nombre</th>\n",
       "      <th>materia</th>\n",
       "      <th>nota</th>\n",
       "    </tr>\n",
       "  </thead>\n",
       "  <tbody>\n",
       "    <tr>\n",
       "      <th>0</th>\n",
       "      <td>Carlos Pérez</td>\n",
       "      <td>Lengua</td>\n",
       "      <td>7.0</td>\n",
       "    </tr>\n",
       "  </tbody>\n",
       "</table>\n",
       "</div>"
      ],
      "text/plain": [
       "         nombre materia  nota\n",
       "0  Carlos Pérez  Lengua   7.0"
      ]
     },
     "execution_count": 17,
     "metadata": {},
     "output_type": "execute_result"
    }
   ],
   "source": [
    "df_calificaciones_estudiante = pd.read_sql_query(\"\"\"\n",
    "SELECT e.nombre, c.materia, c.nota\n",
    "FROM calificaciones c\n",
    "JOIN estudiantes e ON c.estudiante_id = e.id\n",
    "WHERE e.nombre = 'Carlos Pérez' AND c.materia = 'Lengua';\n",
    "\"\"\", conn)\n",
    "\n",
    "df_calificaciones_estudiante"
   ]
  },
  {
   "cell_type": "markdown",
   "id": "1192a2c8",
   "metadata": {},
   "source": [
    "Generamos un intervalo"
   ]
  },
  {
   "cell_type": "code",
   "execution_count": 20,
   "id": "96617bc2",
   "metadata": {},
   "outputs": [
    {
     "data": {
      "text/html": [
       "<div>\n",
       "<style scoped>\n",
       "    .dataframe tbody tr th:only-of-type {\n",
       "        vertical-align: middle;\n",
       "    }\n",
       "\n",
       "    .dataframe tbody tr th {\n",
       "        vertical-align: top;\n",
       "    }\n",
       "\n",
       "    .dataframe thead th {\n",
       "        text-align: right;\n",
       "    }\n",
       "</style>\n",
       "<table border=\"1\" class=\"dataframe\">\n",
       "  <thead>\n",
       "    <tr style=\"text-align: right;\">\n",
       "      <th></th>\n",
       "      <th>nombre</th>\n",
       "      <th>materia</th>\n",
       "      <th>nota</th>\n",
       "    </tr>\n",
       "  </thead>\n",
       "  <tbody>\n",
       "    <tr>\n",
       "      <th>0</th>\n",
       "      <td>María López</td>\n",
       "      <td>Lengua</td>\n",
       "      <td>8.5</td>\n",
       "    </tr>\n",
       "  </tbody>\n",
       "</table>\n",
       "</div>"
      ],
      "text/plain": [
       "        nombre materia  nota\n",
       "0  María López  Lengua   8.5"
      ]
     },
     "execution_count": 20,
     "metadata": {},
     "output_type": "execute_result"
    }
   ],
   "source": [
    "df_calificaciones_estudiante = pd.read_sql_query(\"\"\"\n",
    "SELECT e.nombre, c.materia, c.nota\n",
    "FROM calificaciones c\n",
    "JOIN estudiantes e ON c.estudiante_id = e.id\n",
    "WHERE c.materia = 'Lengua' AND (c.nota > 7.0 AND c.nota <= 8.5) ;\n",
    "\"\"\", conn)\n",
    "\n",
    "df_calificaciones_estudiante"
   ]
  },
  {
   "cell_type": "markdown",
   "id": "9bc2fbe3",
   "metadata": {},
   "source": [
    "Usamos OR para permitir que nos dé una cosa O la otra"
   ]
  },
  {
   "cell_type": "code",
   "execution_count": 21,
   "id": "c52d03a8",
   "metadata": {},
   "outputs": [
    {
     "data": {
      "text/html": [
       "<div>\n",
       "<style scoped>\n",
       "    .dataframe tbody tr th:only-of-type {\n",
       "        vertical-align: middle;\n",
       "    }\n",
       "\n",
       "    .dataframe tbody tr th {\n",
       "        vertical-align: top;\n",
       "    }\n",
       "\n",
       "    .dataframe thead th {\n",
       "        text-align: right;\n",
       "    }\n",
       "</style>\n",
       "<table border=\"1\" class=\"dataframe\">\n",
       "  <thead>\n",
       "    <tr style=\"text-align: right;\">\n",
       "      <th></th>\n",
       "      <th>nombre</th>\n",
       "      <th>materia</th>\n",
       "      <th>nota</th>\n",
       "    </tr>\n",
       "  </thead>\n",
       "  <tbody>\n",
       "    <tr>\n",
       "      <th>0</th>\n",
       "      <td>Carlos Pérez</td>\n",
       "      <td>Matemáticas</td>\n",
       "      <td>8.5</td>\n",
       "    </tr>\n",
       "  </tbody>\n",
       "</table>\n",
       "</div>"
      ],
      "text/plain": [
       "         nombre      materia  nota\n",
       "0  Carlos Pérez  Matemáticas   8.5"
      ]
     },
     "execution_count": 21,
     "metadata": {},
     "output_type": "execute_result"
    }
   ],
   "source": [
    "df_calificaciones_estudiante = pd.read_sql_query(\"\"\"\n",
    "SELECT e.nombre, c.materia, c.nota\n",
    "FROM calificaciones c\n",
    "JOIN estudiantes e ON c.estudiante_id = e.id\n",
    "WHERE e.nombre = 'Carlos Pérez' AND (c.materia = 'Matemáticas' OR c.materia = 'Inglés');\n",
    "\"\"\", conn)\n",
    "\n",
    "df_calificaciones_estudiante"
   ]
  },
  {
   "cell_type": "code",
   "execution_count": 4,
   "id": "3cec8bce",
   "metadata": {},
   "outputs": [],
   "source": [
    "conn.close()"
   ]
  }
 ],
 "metadata": {
  "kernelspec": {
   "display_name": "PythonDev",
   "language": "python",
   "name": "python3"
  },
  "language_info": {
   "codemirror_mode": {
    "name": "ipython",
    "version": 3
   },
   "file_extension": ".py",
   "mimetype": "text/x-python",
   "name": "python",
   "nbconvert_exporter": "python",
   "pygments_lexer": "ipython3",
   "version": "3.13.2"
  }
 },
 "nbformat": 4,
 "nbformat_minor": 5
}
